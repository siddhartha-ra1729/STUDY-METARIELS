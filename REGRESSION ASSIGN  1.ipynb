{
 "cells": [
  {
   "cell_type": "markdown",
   "id": "ef5a27be",
   "metadata": {},
   "source": [
    "# REGRESSION\n"
   ]
  },
  {
   "cell_type": "markdown",
   "id": "5f7218bb",
   "metadata": {},
   "source": [
    "# Data Preparation Tasks"
   ]
  },
  {
   "cell_type": "markdown",
   "id": "c76acc37",
   "metadata": {},
   "source": [
    "# Import necessary libraries:\n",
    "Import pandas, numpy, and scikit-learn libraries.\n"
   ]
  },
  {
   "cell_type": "code",
   "execution_count": 3,
   "id": "5f55ef18",
   "metadata": {},
   "outputs": [],
   "source": [
    "import numpy as np\n",
    "import matplotlib.pyplot as plt\n",
    "import pandas as pd"
   ]
  },
  {
   "cell_type": "markdown",
   "id": "201bc74d",
   "metadata": {},
   "source": [
    "# Load a dataset:\n",
    "Load a dataset (e.g., Boston Housing dataset) into a pandas DataFrame.\n"
   ]
  },
  {
   "cell_type": "code",
   "execution_count": 4,
   "id": "95cf0eb9",
   "metadata": {},
   "outputs": [
    {
     "data": {
      "text/html": [
       "<div>\n",
       "<style scoped>\n",
       "    .dataframe tbody tr th:only-of-type {\n",
       "        vertical-align: middle;\n",
       "    }\n",
       "\n",
       "    .dataframe tbody tr th {\n",
       "        vertical-align: top;\n",
       "    }\n",
       "\n",
       "    .dataframe thead th {\n",
       "        text-align: right;\n",
       "    }\n",
       "</style>\n",
       "<table border=\"1\" class=\"dataframe\">\n",
       "  <thead>\n",
       "    <tr style=\"text-align: right;\">\n",
       "      <th></th>\n",
       "      <th>CRIM</th>\n",
       "      <th>ZN</th>\n",
       "      <th>INDUS</th>\n",
       "      <th>CHAS</th>\n",
       "      <th>NOX</th>\n",
       "      <th>RM</th>\n",
       "      <th>AGE</th>\n",
       "      <th>DIS</th>\n",
       "      <th>RAD</th>\n",
       "      <th>TAX</th>\n",
       "      <th>PTRATIO</th>\n",
       "      <th>B</th>\n",
       "      <th>LSTAT</th>\n",
       "      <th>MEDV</th>\n",
       "    </tr>\n",
       "  </thead>\n",
       "  <tbody>\n",
       "    <tr>\n",
       "      <th>0</th>\n",
       "      <td>0.00632</td>\n",
       "      <td>18.0</td>\n",
       "      <td>2.31</td>\n",
       "      <td>0.0</td>\n",
       "      <td>0.538</td>\n",
       "      <td>6.575</td>\n",
       "      <td>65.2</td>\n",
       "      <td>4.0900</td>\n",
       "      <td>1</td>\n",
       "      <td>296</td>\n",
       "      <td>15.3</td>\n",
       "      <td>396.90</td>\n",
       "      <td>4.98</td>\n",
       "      <td>24.0</td>\n",
       "    </tr>\n",
       "    <tr>\n",
       "      <th>1</th>\n",
       "      <td>0.02731</td>\n",
       "      <td>0.0</td>\n",
       "      <td>7.07</td>\n",
       "      <td>0.0</td>\n",
       "      <td>0.469</td>\n",
       "      <td>6.421</td>\n",
       "      <td>78.9</td>\n",
       "      <td>4.9671</td>\n",
       "      <td>2</td>\n",
       "      <td>242</td>\n",
       "      <td>17.8</td>\n",
       "      <td>396.90</td>\n",
       "      <td>9.14</td>\n",
       "      <td>21.6</td>\n",
       "    </tr>\n",
       "    <tr>\n",
       "      <th>2</th>\n",
       "      <td>0.02729</td>\n",
       "      <td>0.0</td>\n",
       "      <td>7.07</td>\n",
       "      <td>0.0</td>\n",
       "      <td>0.469</td>\n",
       "      <td>7.185</td>\n",
       "      <td>61.1</td>\n",
       "      <td>4.9671</td>\n",
       "      <td>2</td>\n",
       "      <td>242</td>\n",
       "      <td>17.8</td>\n",
       "      <td>392.83</td>\n",
       "      <td>4.03</td>\n",
       "      <td>34.7</td>\n",
       "    </tr>\n",
       "    <tr>\n",
       "      <th>3</th>\n",
       "      <td>0.03237</td>\n",
       "      <td>0.0</td>\n",
       "      <td>2.18</td>\n",
       "      <td>0.0</td>\n",
       "      <td>0.458</td>\n",
       "      <td>6.998</td>\n",
       "      <td>45.8</td>\n",
       "      <td>6.0622</td>\n",
       "      <td>3</td>\n",
       "      <td>222</td>\n",
       "      <td>18.7</td>\n",
       "      <td>394.63</td>\n",
       "      <td>2.94</td>\n",
       "      <td>33.4</td>\n",
       "    </tr>\n",
       "    <tr>\n",
       "      <th>4</th>\n",
       "      <td>0.06905</td>\n",
       "      <td>0.0</td>\n",
       "      <td>2.18</td>\n",
       "      <td>0.0</td>\n",
       "      <td>0.458</td>\n",
       "      <td>7.147</td>\n",
       "      <td>54.2</td>\n",
       "      <td>6.0622</td>\n",
       "      <td>3</td>\n",
       "      <td>222</td>\n",
       "      <td>18.7</td>\n",
       "      <td>396.90</td>\n",
       "      <td>NaN</td>\n",
       "      <td>36.2</td>\n",
       "    </tr>\n",
       "    <tr>\n",
       "      <th>...</th>\n",
       "      <td>...</td>\n",
       "      <td>...</td>\n",
       "      <td>...</td>\n",
       "      <td>...</td>\n",
       "      <td>...</td>\n",
       "      <td>...</td>\n",
       "      <td>...</td>\n",
       "      <td>...</td>\n",
       "      <td>...</td>\n",
       "      <td>...</td>\n",
       "      <td>...</td>\n",
       "      <td>...</td>\n",
       "      <td>...</td>\n",
       "      <td>...</td>\n",
       "    </tr>\n",
       "    <tr>\n",
       "      <th>501</th>\n",
       "      <td>0.06263</td>\n",
       "      <td>0.0</td>\n",
       "      <td>11.93</td>\n",
       "      <td>0.0</td>\n",
       "      <td>0.573</td>\n",
       "      <td>6.593</td>\n",
       "      <td>69.1</td>\n",
       "      <td>2.4786</td>\n",
       "      <td>1</td>\n",
       "      <td>273</td>\n",
       "      <td>21.0</td>\n",
       "      <td>391.99</td>\n",
       "      <td>NaN</td>\n",
       "      <td>22.4</td>\n",
       "    </tr>\n",
       "    <tr>\n",
       "      <th>502</th>\n",
       "      <td>0.04527</td>\n",
       "      <td>0.0</td>\n",
       "      <td>11.93</td>\n",
       "      <td>0.0</td>\n",
       "      <td>0.573</td>\n",
       "      <td>6.120</td>\n",
       "      <td>76.7</td>\n",
       "      <td>2.2875</td>\n",
       "      <td>1</td>\n",
       "      <td>273</td>\n",
       "      <td>21.0</td>\n",
       "      <td>396.90</td>\n",
       "      <td>9.08</td>\n",
       "      <td>20.6</td>\n",
       "    </tr>\n",
       "    <tr>\n",
       "      <th>503</th>\n",
       "      <td>0.06076</td>\n",
       "      <td>0.0</td>\n",
       "      <td>11.93</td>\n",
       "      <td>0.0</td>\n",
       "      <td>0.573</td>\n",
       "      <td>6.976</td>\n",
       "      <td>91.0</td>\n",
       "      <td>2.1675</td>\n",
       "      <td>1</td>\n",
       "      <td>273</td>\n",
       "      <td>21.0</td>\n",
       "      <td>396.90</td>\n",
       "      <td>5.64</td>\n",
       "      <td>23.9</td>\n",
       "    </tr>\n",
       "    <tr>\n",
       "      <th>504</th>\n",
       "      <td>0.10959</td>\n",
       "      <td>0.0</td>\n",
       "      <td>11.93</td>\n",
       "      <td>0.0</td>\n",
       "      <td>0.573</td>\n",
       "      <td>6.794</td>\n",
       "      <td>89.3</td>\n",
       "      <td>2.3889</td>\n",
       "      <td>1</td>\n",
       "      <td>273</td>\n",
       "      <td>21.0</td>\n",
       "      <td>393.45</td>\n",
       "      <td>6.48</td>\n",
       "      <td>22.0</td>\n",
       "    </tr>\n",
       "    <tr>\n",
       "      <th>505</th>\n",
       "      <td>0.04741</td>\n",
       "      <td>0.0</td>\n",
       "      <td>11.93</td>\n",
       "      <td>0.0</td>\n",
       "      <td>0.573</td>\n",
       "      <td>6.030</td>\n",
       "      <td>NaN</td>\n",
       "      <td>2.5050</td>\n",
       "      <td>1</td>\n",
       "      <td>273</td>\n",
       "      <td>21.0</td>\n",
       "      <td>396.90</td>\n",
       "      <td>7.88</td>\n",
       "      <td>11.9</td>\n",
       "    </tr>\n",
       "  </tbody>\n",
       "</table>\n",
       "<p>506 rows × 14 columns</p>\n",
       "</div>"
      ],
      "text/plain": [
       "        CRIM    ZN  INDUS  CHAS    NOX     RM   AGE     DIS  RAD  TAX  \\\n",
       "0    0.00632  18.0   2.31   0.0  0.538  6.575  65.2  4.0900    1  296   \n",
       "1    0.02731   0.0   7.07   0.0  0.469  6.421  78.9  4.9671    2  242   \n",
       "2    0.02729   0.0   7.07   0.0  0.469  7.185  61.1  4.9671    2  242   \n",
       "3    0.03237   0.0   2.18   0.0  0.458  6.998  45.8  6.0622    3  222   \n",
       "4    0.06905   0.0   2.18   0.0  0.458  7.147  54.2  6.0622    3  222   \n",
       "..       ...   ...    ...   ...    ...    ...   ...     ...  ...  ...   \n",
       "501  0.06263   0.0  11.93   0.0  0.573  6.593  69.1  2.4786    1  273   \n",
       "502  0.04527   0.0  11.93   0.0  0.573  6.120  76.7  2.2875    1  273   \n",
       "503  0.06076   0.0  11.93   0.0  0.573  6.976  91.0  2.1675    1  273   \n",
       "504  0.10959   0.0  11.93   0.0  0.573  6.794  89.3  2.3889    1  273   \n",
       "505  0.04741   0.0  11.93   0.0  0.573  6.030   NaN  2.5050    1  273   \n",
       "\n",
       "     PTRATIO       B  LSTAT  MEDV  \n",
       "0       15.3  396.90   4.98  24.0  \n",
       "1       17.8  396.90   9.14  21.6  \n",
       "2       17.8  392.83   4.03  34.7  \n",
       "3       18.7  394.63   2.94  33.4  \n",
       "4       18.7  396.90    NaN  36.2  \n",
       "..       ...     ...    ...   ...  \n",
       "501     21.0  391.99    NaN  22.4  \n",
       "502     21.0  396.90   9.08  20.6  \n",
       "503     21.0  396.90   5.64  23.9  \n",
       "504     21.0  393.45   6.48  22.0  \n",
       "505     21.0  396.90   7.88  11.9  \n",
       "\n",
       "[506 rows x 14 columns]"
      ]
     },
     "execution_count": 4,
     "metadata": {},
     "output_type": "execute_result"
    }
   ],
   "source": [
    "df=pd.read_csv(\"HousingData.csv\")\n",
    "df"
   ]
  },
  {
   "cell_type": "markdown",
   "id": "a475b180",
   "metadata": {},
   "source": [
    "# Inspect the dataset:\n",
    "Display the first few rows and summary statistics of the dataset.\n"
   ]
  },
  {
   "cell_type": "code",
   "execution_count": 5,
   "id": "c610a442",
   "metadata": {},
   "outputs": [
    {
     "name": "stdout",
     "output_type": "stream",
     "text": [
      "<class 'pandas.core.frame.DataFrame'>\n",
      "RangeIndex: 506 entries, 0 to 505\n",
      "Data columns (total 14 columns):\n",
      " #   Column   Non-Null Count  Dtype  \n",
      "---  ------   --------------  -----  \n",
      " 0   CRIM     486 non-null    float64\n",
      " 1   ZN       486 non-null    float64\n",
      " 2   INDUS    486 non-null    float64\n",
      " 3   CHAS     486 non-null    float64\n",
      " 4   NOX      506 non-null    float64\n",
      " 5   RM       506 non-null    float64\n",
      " 6   AGE      486 non-null    float64\n",
      " 7   DIS      506 non-null    float64\n",
      " 8   RAD      506 non-null    int64  \n",
      " 9   TAX      506 non-null    int64  \n",
      " 10  PTRATIO  506 non-null    float64\n",
      " 11  B        506 non-null    float64\n",
      " 12  LSTAT    486 non-null    float64\n",
      " 13  MEDV     506 non-null    float64\n",
      "dtypes: float64(12), int64(2)\n",
      "memory usage: 55.5 KB\n"
     ]
    }
   ],
   "source": [
    "df.info()"
   ]
  },
  {
   "cell_type": "code",
   "execution_count": 6,
   "id": "8064be52",
   "metadata": {},
   "outputs": [
    {
     "data": {
      "text/html": [
       "<div>\n",
       "<style scoped>\n",
       "    .dataframe tbody tr th:only-of-type {\n",
       "        vertical-align: middle;\n",
       "    }\n",
       "\n",
       "    .dataframe tbody tr th {\n",
       "        vertical-align: top;\n",
       "    }\n",
       "\n",
       "    .dataframe thead th {\n",
       "        text-align: right;\n",
       "    }\n",
       "</style>\n",
       "<table border=\"1\" class=\"dataframe\">\n",
       "  <thead>\n",
       "    <tr style=\"text-align: right;\">\n",
       "      <th></th>\n",
       "      <th>CRIM</th>\n",
       "      <th>ZN</th>\n",
       "      <th>INDUS</th>\n",
       "      <th>CHAS</th>\n",
       "      <th>NOX</th>\n",
       "      <th>RM</th>\n",
       "      <th>AGE</th>\n",
       "      <th>DIS</th>\n",
       "      <th>RAD</th>\n",
       "      <th>TAX</th>\n",
       "      <th>PTRATIO</th>\n",
       "      <th>B</th>\n",
       "      <th>LSTAT</th>\n",
       "      <th>MEDV</th>\n",
       "    </tr>\n",
       "  </thead>\n",
       "  <tbody>\n",
       "    <tr>\n",
       "      <th>count</th>\n",
       "      <td>486.000000</td>\n",
       "      <td>486.000000</td>\n",
       "      <td>486.000000</td>\n",
       "      <td>486.000000</td>\n",
       "      <td>506.000000</td>\n",
       "      <td>506.000000</td>\n",
       "      <td>486.000000</td>\n",
       "      <td>506.000000</td>\n",
       "      <td>506.000000</td>\n",
       "      <td>506.000000</td>\n",
       "      <td>506.000000</td>\n",
       "      <td>506.000000</td>\n",
       "      <td>486.000000</td>\n",
       "      <td>506.000000</td>\n",
       "    </tr>\n",
       "    <tr>\n",
       "      <th>mean</th>\n",
       "      <td>3.611874</td>\n",
       "      <td>11.211934</td>\n",
       "      <td>11.083992</td>\n",
       "      <td>0.069959</td>\n",
       "      <td>0.554695</td>\n",
       "      <td>6.284634</td>\n",
       "      <td>68.518519</td>\n",
       "      <td>3.795043</td>\n",
       "      <td>9.549407</td>\n",
       "      <td>408.237154</td>\n",
       "      <td>18.455534</td>\n",
       "      <td>356.674032</td>\n",
       "      <td>12.715432</td>\n",
       "      <td>22.532806</td>\n",
       "    </tr>\n",
       "    <tr>\n",
       "      <th>std</th>\n",
       "      <td>8.720192</td>\n",
       "      <td>23.388876</td>\n",
       "      <td>6.835896</td>\n",
       "      <td>0.255340</td>\n",
       "      <td>0.115878</td>\n",
       "      <td>0.702617</td>\n",
       "      <td>27.999513</td>\n",
       "      <td>2.105710</td>\n",
       "      <td>8.707259</td>\n",
       "      <td>168.537116</td>\n",
       "      <td>2.164946</td>\n",
       "      <td>91.294864</td>\n",
       "      <td>7.155871</td>\n",
       "      <td>9.197104</td>\n",
       "    </tr>\n",
       "    <tr>\n",
       "      <th>min</th>\n",
       "      <td>0.006320</td>\n",
       "      <td>0.000000</td>\n",
       "      <td>0.460000</td>\n",
       "      <td>0.000000</td>\n",
       "      <td>0.385000</td>\n",
       "      <td>3.561000</td>\n",
       "      <td>2.900000</td>\n",
       "      <td>1.129600</td>\n",
       "      <td>1.000000</td>\n",
       "      <td>187.000000</td>\n",
       "      <td>12.600000</td>\n",
       "      <td>0.320000</td>\n",
       "      <td>1.730000</td>\n",
       "      <td>5.000000</td>\n",
       "    </tr>\n",
       "    <tr>\n",
       "      <th>25%</th>\n",
       "      <td>0.081900</td>\n",
       "      <td>0.000000</td>\n",
       "      <td>5.190000</td>\n",
       "      <td>0.000000</td>\n",
       "      <td>0.449000</td>\n",
       "      <td>5.885500</td>\n",
       "      <td>45.175000</td>\n",
       "      <td>2.100175</td>\n",
       "      <td>4.000000</td>\n",
       "      <td>279.000000</td>\n",
       "      <td>17.400000</td>\n",
       "      <td>375.377500</td>\n",
       "      <td>7.125000</td>\n",
       "      <td>17.025000</td>\n",
       "    </tr>\n",
       "    <tr>\n",
       "      <th>50%</th>\n",
       "      <td>0.253715</td>\n",
       "      <td>0.000000</td>\n",
       "      <td>9.690000</td>\n",
       "      <td>0.000000</td>\n",
       "      <td>0.538000</td>\n",
       "      <td>6.208500</td>\n",
       "      <td>76.800000</td>\n",
       "      <td>3.207450</td>\n",
       "      <td>5.000000</td>\n",
       "      <td>330.000000</td>\n",
       "      <td>19.050000</td>\n",
       "      <td>391.440000</td>\n",
       "      <td>11.430000</td>\n",
       "      <td>21.200000</td>\n",
       "    </tr>\n",
       "    <tr>\n",
       "      <th>75%</th>\n",
       "      <td>3.560263</td>\n",
       "      <td>12.500000</td>\n",
       "      <td>18.100000</td>\n",
       "      <td>0.000000</td>\n",
       "      <td>0.624000</td>\n",
       "      <td>6.623500</td>\n",
       "      <td>93.975000</td>\n",
       "      <td>5.188425</td>\n",
       "      <td>24.000000</td>\n",
       "      <td>666.000000</td>\n",
       "      <td>20.200000</td>\n",
       "      <td>396.225000</td>\n",
       "      <td>16.955000</td>\n",
       "      <td>25.000000</td>\n",
       "    </tr>\n",
       "    <tr>\n",
       "      <th>max</th>\n",
       "      <td>88.976200</td>\n",
       "      <td>100.000000</td>\n",
       "      <td>27.740000</td>\n",
       "      <td>1.000000</td>\n",
       "      <td>0.871000</td>\n",
       "      <td>8.780000</td>\n",
       "      <td>100.000000</td>\n",
       "      <td>12.126500</td>\n",
       "      <td>24.000000</td>\n",
       "      <td>711.000000</td>\n",
       "      <td>22.000000</td>\n",
       "      <td>396.900000</td>\n",
       "      <td>37.970000</td>\n",
       "      <td>50.000000</td>\n",
       "    </tr>\n",
       "  </tbody>\n",
       "</table>\n",
       "</div>"
      ],
      "text/plain": [
       "             CRIM          ZN       INDUS        CHAS         NOX          RM  \\\n",
       "count  486.000000  486.000000  486.000000  486.000000  506.000000  506.000000   \n",
       "mean     3.611874   11.211934   11.083992    0.069959    0.554695    6.284634   \n",
       "std      8.720192   23.388876    6.835896    0.255340    0.115878    0.702617   \n",
       "min      0.006320    0.000000    0.460000    0.000000    0.385000    3.561000   \n",
       "25%      0.081900    0.000000    5.190000    0.000000    0.449000    5.885500   \n",
       "50%      0.253715    0.000000    9.690000    0.000000    0.538000    6.208500   \n",
       "75%      3.560263   12.500000   18.100000    0.000000    0.624000    6.623500   \n",
       "max     88.976200  100.000000   27.740000    1.000000    0.871000    8.780000   \n",
       "\n",
       "              AGE         DIS         RAD         TAX     PTRATIO           B  \\\n",
       "count  486.000000  506.000000  506.000000  506.000000  506.000000  506.000000   \n",
       "mean    68.518519    3.795043    9.549407  408.237154   18.455534  356.674032   \n",
       "std     27.999513    2.105710    8.707259  168.537116    2.164946   91.294864   \n",
       "min      2.900000    1.129600    1.000000  187.000000   12.600000    0.320000   \n",
       "25%     45.175000    2.100175    4.000000  279.000000   17.400000  375.377500   \n",
       "50%     76.800000    3.207450    5.000000  330.000000   19.050000  391.440000   \n",
       "75%     93.975000    5.188425   24.000000  666.000000   20.200000  396.225000   \n",
       "max    100.000000   12.126500   24.000000  711.000000   22.000000  396.900000   \n",
       "\n",
       "            LSTAT        MEDV  \n",
       "count  486.000000  506.000000  \n",
       "mean    12.715432   22.532806  \n",
       "std      7.155871    9.197104  \n",
       "min      1.730000    5.000000  \n",
       "25%      7.125000   17.025000  \n",
       "50%     11.430000   21.200000  \n",
       "75%     16.955000   25.000000  \n",
       "max     37.970000   50.000000  "
      ]
     },
     "execution_count": 6,
     "metadata": {},
     "output_type": "execute_result"
    }
   ],
   "source": [
    "df.describe()"
   ]
  },
  {
   "cell_type": "code",
   "execution_count": 7,
   "id": "72170618",
   "metadata": {},
   "outputs": [
    {
     "data": {
      "text/html": [
       "<div>\n",
       "<style scoped>\n",
       "    .dataframe tbody tr th:only-of-type {\n",
       "        vertical-align: middle;\n",
       "    }\n",
       "\n",
       "    .dataframe tbody tr th {\n",
       "        vertical-align: top;\n",
       "    }\n",
       "\n",
       "    .dataframe thead th {\n",
       "        text-align: right;\n",
       "    }\n",
       "</style>\n",
       "<table border=\"1\" class=\"dataframe\">\n",
       "  <thead>\n",
       "    <tr style=\"text-align: right;\">\n",
       "      <th></th>\n",
       "      <th>CRIM</th>\n",
       "      <th>ZN</th>\n",
       "      <th>INDUS</th>\n",
       "      <th>CHAS</th>\n",
       "      <th>NOX</th>\n",
       "      <th>RM</th>\n",
       "      <th>AGE</th>\n",
       "      <th>DIS</th>\n",
       "      <th>RAD</th>\n",
       "      <th>TAX</th>\n",
       "      <th>PTRATIO</th>\n",
       "      <th>B</th>\n",
       "      <th>LSTAT</th>\n",
       "      <th>MEDV</th>\n",
       "    </tr>\n",
       "  </thead>\n",
       "  <tbody>\n",
       "    <tr>\n",
       "      <th>0</th>\n",
       "      <td>0.00632</td>\n",
       "      <td>18.0</td>\n",
       "      <td>2.31</td>\n",
       "      <td>0.0</td>\n",
       "      <td>0.538</td>\n",
       "      <td>6.575</td>\n",
       "      <td>65.2</td>\n",
       "      <td>4.0900</td>\n",
       "      <td>1</td>\n",
       "      <td>296</td>\n",
       "      <td>15.3</td>\n",
       "      <td>396.90</td>\n",
       "      <td>4.98</td>\n",
       "      <td>24.0</td>\n",
       "    </tr>\n",
       "    <tr>\n",
       "      <th>1</th>\n",
       "      <td>0.02731</td>\n",
       "      <td>0.0</td>\n",
       "      <td>7.07</td>\n",
       "      <td>0.0</td>\n",
       "      <td>0.469</td>\n",
       "      <td>6.421</td>\n",
       "      <td>78.9</td>\n",
       "      <td>4.9671</td>\n",
       "      <td>2</td>\n",
       "      <td>242</td>\n",
       "      <td>17.8</td>\n",
       "      <td>396.90</td>\n",
       "      <td>9.14</td>\n",
       "      <td>21.6</td>\n",
       "    </tr>\n",
       "    <tr>\n",
       "      <th>2</th>\n",
       "      <td>0.02729</td>\n",
       "      <td>0.0</td>\n",
       "      <td>7.07</td>\n",
       "      <td>0.0</td>\n",
       "      <td>0.469</td>\n",
       "      <td>7.185</td>\n",
       "      <td>61.1</td>\n",
       "      <td>4.9671</td>\n",
       "      <td>2</td>\n",
       "      <td>242</td>\n",
       "      <td>17.8</td>\n",
       "      <td>392.83</td>\n",
       "      <td>4.03</td>\n",
       "      <td>34.7</td>\n",
       "    </tr>\n",
       "    <tr>\n",
       "      <th>3</th>\n",
       "      <td>0.03237</td>\n",
       "      <td>0.0</td>\n",
       "      <td>2.18</td>\n",
       "      <td>0.0</td>\n",
       "      <td>0.458</td>\n",
       "      <td>6.998</td>\n",
       "      <td>45.8</td>\n",
       "      <td>6.0622</td>\n",
       "      <td>3</td>\n",
       "      <td>222</td>\n",
       "      <td>18.7</td>\n",
       "      <td>394.63</td>\n",
       "      <td>2.94</td>\n",
       "      <td>33.4</td>\n",
       "    </tr>\n",
       "    <tr>\n",
       "      <th>4</th>\n",
       "      <td>0.06905</td>\n",
       "      <td>0.0</td>\n",
       "      <td>2.18</td>\n",
       "      <td>0.0</td>\n",
       "      <td>0.458</td>\n",
       "      <td>7.147</td>\n",
       "      <td>54.2</td>\n",
       "      <td>6.0622</td>\n",
       "      <td>3</td>\n",
       "      <td>222</td>\n",
       "      <td>18.7</td>\n",
       "      <td>396.90</td>\n",
       "      <td>NaN</td>\n",
       "      <td>36.2</td>\n",
       "    </tr>\n",
       "  </tbody>\n",
       "</table>\n",
       "</div>"
      ],
      "text/plain": [
       "      CRIM    ZN  INDUS  CHAS    NOX     RM   AGE     DIS  RAD  TAX  PTRATIO  \\\n",
       "0  0.00632  18.0   2.31   0.0  0.538  6.575  65.2  4.0900    1  296     15.3   \n",
       "1  0.02731   0.0   7.07   0.0  0.469  6.421  78.9  4.9671    2  242     17.8   \n",
       "2  0.02729   0.0   7.07   0.0  0.469  7.185  61.1  4.9671    2  242     17.8   \n",
       "3  0.03237   0.0   2.18   0.0  0.458  6.998  45.8  6.0622    3  222     18.7   \n",
       "4  0.06905   0.0   2.18   0.0  0.458  7.147  54.2  6.0622    3  222     18.7   \n",
       "\n",
       "        B  LSTAT  MEDV  \n",
       "0  396.90   4.98  24.0  \n",
       "1  396.90   9.14  21.6  \n",
       "2  392.83   4.03  34.7  \n",
       "3  394.63   2.94  33.4  \n",
       "4  396.90    NaN  36.2  "
      ]
     },
     "execution_count": 7,
     "metadata": {},
     "output_type": "execute_result"
    }
   ],
   "source": [
    "df.head()"
   ]
  },
  {
   "cell_type": "code",
   "execution_count": 8,
   "id": "d72b7b61",
   "metadata": {},
   "outputs": [
    {
     "data": {
      "text/plain": [
       "Index(['CRIM', 'ZN', 'INDUS', 'CHAS', 'NOX', 'RM', 'AGE', 'DIS', 'RAD', 'TAX',\n",
       "       'PTRATIO', 'B', 'LSTAT', 'MEDV'],\n",
       "      dtype='object')"
      ]
     },
     "execution_count": 8,
     "metadata": {},
     "output_type": "execute_result"
    }
   ],
   "source": [
    "df.columns #n. of  columns"
   ]
  },
  {
   "cell_type": "code",
   "execution_count": 60,
   "id": "ee362f92",
   "metadata": {},
   "outputs": [
    {
     "data": {
      "text/plain": [
       "CRIM       506\n",
       "ZN         506\n",
       "INDUS      506\n",
       "CHAS       506\n",
       "NOX        506\n",
       "RM         506\n",
       "AGE        506\n",
       "DIS        506\n",
       "RAD        506\n",
       "TAX        506\n",
       "PTRATIO    506\n",
       "B          506\n",
       "LSTAT      506\n",
       "MEDV       506\n",
       "dtype: int64"
      ]
     },
     "execution_count": 60,
     "metadata": {},
     "output_type": "execute_result"
    }
   ],
   "source": [
    "df.count() # number of rows"
   ]
  },
  {
   "cell_type": "code",
   "execution_count": 9,
   "id": "7258355e",
   "metadata": {},
   "outputs": [
    {
     "data": {
      "text/plain": [
       "(506, 14)"
      ]
     },
     "execution_count": 9,
     "metadata": {},
     "output_type": "execute_result"
    }
   ],
   "source": [
    "df.shape"
   ]
  },
  {
   "cell_type": "markdown",
   "id": "c37938ad",
   "metadata": {},
   "source": [
    "# Check for missing values:\n",
    "Check and handle any missing values in the dataset.\n"
   ]
  },
  {
   "cell_type": "code",
   "execution_count": 40,
   "id": "fcd6c39c",
   "metadata": {},
   "outputs": [
    {
     "data": {
      "text/plain": [
       "CRIM       0\n",
       "ZN         0\n",
       "INDUS      0\n",
       "CHAS       0\n",
       "NOX        0\n",
       "RM         0\n",
       "AGE        0\n",
       "DIS        0\n",
       "RAD        0\n",
       "TAX        0\n",
       "PTRATIO    0\n",
       "B          0\n",
       "LSTAT      0\n",
       "MEDV       0\n",
       "dtype: int64"
      ]
     },
     "execution_count": 40,
     "metadata": {},
     "output_type": "execute_result"
    }
   ],
   "source": [
    "df.isnull().sum()"
   ]
  },
  {
   "cell_type": "code",
   "execution_count": 41,
   "id": "aac6192a",
   "metadata": {},
   "outputs": [
    {
     "name": "stdout",
     "output_type": "stream",
     "text": [
      "Infinite values in each feature:\n",
      " CRIM       0\n",
      "ZN         0\n",
      "INDUS      0\n",
      "CHAS       0\n",
      "NOX        0\n",
      "RM         0\n",
      "AGE        0\n",
      "DIS        0\n",
      "RAD        0\n",
      "TAX        0\n",
      "PTRATIO    0\n",
      "B          0\n",
      "LSTAT      0\n",
      "dtype: int64\n"
     ]
    }
   ],
   "source": [
    "print(\"Infinite values in each feature:\\n\", np.isinf(x).sum())"
   ]
  },
  {
   "cell_type": "code",
   "execution_count": 42,
   "id": "2a88794f",
   "metadata": {},
   "outputs": [],
   "source": [
    "df.fillna(df.mean(), inplace=True)  #handiling missing values"
   ]
  },
  {
   "cell_type": "code",
   "execution_count": 57,
   "id": "54add25d",
   "metadata": {},
   "outputs": [
    {
     "name": "stdout",
     "output_type": "stream",
     "text": [
      "Any NaN values? False\n"
     ]
    }
   ],
   "source": [
    "print(f'Any NaN values? {df.isna().values.any()}')"
   ]
  },
  {
   "cell_type": "code",
   "execution_count": 58,
   "id": "6e355bb9",
   "metadata": {},
   "outputs": [
    {
     "name": "stdout",
     "output_type": "stream",
     "text": [
      "Any duplicates? False\n"
     ]
    }
   ],
   "source": [
    "print(f'Any duplicates? {df.duplicated().values.any()}')"
   ]
  },
  {
   "cell_type": "markdown",
   "id": "e19dfe35",
   "metadata": {},
   "source": [
    "# Feature selection:\n",
    "Select relevant features for the regression model.\n"
   ]
  },
  {
   "cell_type": "code",
   "execution_count": 43,
   "id": "c5fc16de",
   "metadata": {},
   "outputs": [],
   "source": [
    "from sklearn.feature_selection import RFE, RFECV\n"
   ]
  },
  {
   "cell_type": "code",
   "execution_count": 44,
   "id": "1710d821",
   "metadata": {},
   "outputs": [],
   "source": [
    "from sklearn.linear_model import LinearRegression\n"
   ]
  },
  {
   "cell_type": "code",
   "execution_count": 49,
   "id": "741a6326",
   "metadata": {},
   "outputs": [],
   "source": [
    "from sklearn.preprocessing import StandardScaler"
   ]
  },
  {
   "cell_type": "code",
   "execution_count": 63,
   "id": "a43bbf65",
   "metadata": {},
   "outputs": [],
   "source": [
    "# Define the features and target variable\n",
    "X = df.drop('MEDV', axis=1)  # Features\n",
    "y = df['MEDV']  # Target\n"
   ]
  },
  {
   "cell_type": "code",
   "execution_count": 72,
   "id": "2cc08d7f",
   "metadata": {},
   "outputs": [],
   "source": [
    "# Normalize the data\n",
    "scaler = StandardScaler()\n",
    "scaled_x = scaler.fit_transform(X)"
   ]
  },
  {
   "cell_type": "code",
   "execution_count": 73,
   "id": "857839d8",
   "metadata": {},
   "outputs": [],
   "source": [
    "model = LinearRegression()\n",
    "rfe = RFE(model, n_features_to_select=5)\n",
    "rfe = rfe.fit(X, y)\n"
   ]
  },
  {
   "cell_type": "code",
   "execution_count": 74,
   "id": "81a768b4",
   "metadata": {},
   "outputs": [
    {
     "name": "stdout",
     "output_type": "stream",
     "text": [
      "Ranking of features: [5 6 3 1 1 1 8 1 4 7 1 9 2]\n"
     ]
    }
   ],
   "source": [
    "# Get the ranking of the features\n",
    "print('Ranking of features:', rfe.ranking_)"
   ]
  },
  {
   "cell_type": "markdown",
   "id": "e708221c",
   "metadata": {},
   "source": [
    "# Split the data:\n",
    "Split the data into training and testing sets.\n"
   ]
  },
  {
   "cell_type": "code",
   "execution_count": 68,
   "id": "c534bdb2",
   "metadata": {},
   "outputs": [],
   "source": [
    "from sklearn.model_selection import train_test_split\n"
   ]
  },
  {
   "cell_type": "code",
   "execution_count": 71,
   "id": "731ab366",
   "metadata": {},
   "outputs": [
    {
     "name": "stdout",
     "output_type": "stream",
     "text": [
      "x_train shape: (354, 13)\n",
      "x_test shape: (152, 13)\n",
      "y_train shape: (354,)\n",
      "y_test shape: (152,)\n"
     ]
    }
   ],
   "source": [
    "x_train, x_test, y_train, y_test = train_test_split(X, y, test_size=0.3, random_state=42)\n",
    "\n",
    "# Verify the shape of the training and testing sets\n",
    "print(f'x_train shape: {x_train.shape}')\n",
    "print(f'x_test shape: {x_test.shape}')\n",
    "print(f'y_train shape: {y_train.shape}')\n",
    "print(f'y_test shape: {y_test.shape}')\n"
   ]
  },
  {
   "cell_type": "markdown",
   "id": "d2d7e9d4",
   "metadata": {},
   "source": [
    "# Model Training and Evaluation Tasks"
   ]
  },
  {
   "cell_type": "markdown",
   "id": "848eaa55",
   "metadata": {},
   "source": [
    "# Train a Linear Regression model:\n",
    "Train a simple linear regression model on the training data.\n"
   ]
  },
  {
   "cell_type": "code",
   "execution_count": 76,
   "id": "5bb2614a",
   "metadata": {},
   "outputs": [
    {
     "data": {
      "text/plain": [
       "LinearRegression()"
      ]
     },
     "execution_count": 76,
     "metadata": {},
     "output_type": "execute_result"
    }
   ],
   "source": [
    "lr = LinearRegression()\n",
    "lr.fit(x_train, y_train)"
   ]
  },
  {
   "cell_type": "markdown",
   "id": "12fbcd58",
   "metadata": {},
   "source": [
    "# Make predictions:\n",
    "Make predictions on the testing data.\n"
   ]
  },
  {
   "cell_type": "code",
   "execution_count": 77,
   "id": "0c57d128",
   "metadata": {},
   "outputs": [],
   "source": [
    "y_pred = lr.predict(x_test)"
   ]
  },
  {
   "cell_type": "code",
   "execution_count": 78,
   "id": "da527a67",
   "metadata": {},
   "outputs": [
    {
     "data": {
      "text/plain": [
       "array([28.94684244, 37.080947  , 15.16334344, 25.59977001, 18.52050399,\n",
       "       22.92953198, 17.99840423, 14.43800382, 22.06639946, 20.81944231,\n",
       "       25.11881906, 18.72123522, -6.3071011 , 21.86734043, 19.02489041,\n",
       "       25.40599155, 19.37239698,  5.95086419, 40.85794132, 17.18432226,\n",
       "       24.93251127, 30.36869589, 11.39935905, 22.76748541, 17.50857422,\n",
       "       15.11943012, 21.39728476, 14.47830797, 23.13536511, 19.56542429,\n",
       "       22.18119889, 25.26140438, 25.38274556, 17.33845553, 16.24266113,\n",
       "       17.25502918, 30.91188566, 20.39390975, 24.67921133, 22.85756708,\n",
       "       14.52166278, 31.79401526, 42.81650058, 17.99338659, 27.3605525 ,\n",
       "       16.56320925, 13.95314318, 26.53462251, 19.75194991, 30.2586963 ,\n",
       "       21.02578   , 33.48015966, 15.97922002, 26.27389748, 39.58817583,\n",
       "       22.50675409, 18.73574376, 33.02789505, 25.25340181, 13.16505164,\n",
       "       22.85496664, 31.01835795, 31.53871931, 16.756762  , 21.22003054,\n",
       "       17.10830699, 19.99132099, 26.38841982, 31.29685552, 11.7231931 ,\n",
       "       20.97258967, 26.63335287, 10.95888213, 13.4158528 , 23.97236272,\n",
       "        5.66817291, 21.45418183, 41.56712305, 18.17594507,  9.48043905,\n",
       "       21.41371834, 12.83886454, 21.86984499,  9.17605135, 22.77784869,\n",
       "       32.52178098, 19.08870649, 25.76101077, 29.03718152, 19.79942549,\n",
       "       25.99768914,  5.55973693, 19.67592421, 15.58843642, 12.05864065,\n",
       "       20.27908381, 23.71715385, -0.33118013, 13.574537  , 15.58002707,\n",
       "       22.63744043, 24.63223041, 10.44203817, 19.7020956 , 23.19945908,\n",
       "       12.54800472, 18.49880298, 25.97268923, 21.20986934, 24.74534596,\n",
       "        7.87558719, 20.25419972, 22.14202929, 27.49138377, 32.02443374,\n",
       "       14.76313946, 34.77670429, 13.04840788, 21.34756531, 28.27990076,\n",
       "       15.36800974, 25.1865523 ,  3.35128356, 23.72015504, 26.26550372,\n",
       "       23.10384338, 25.43047681, 33.18312767, 21.64835442, 38.47259389,\n",
       "       14.41283553, 26.16157834, 17.60366271, 20.79190337, 10.45939827,\n",
       "       20.49798709, 22.67008757, 31.99471793, 31.79670093, 15.52452541,\n",
       "       17.02050129, 29.09484276, 25.06877192, 17.53901345,  6.54114984,\n",
       "       25.94712745, 23.79112755, 20.48659363, 13.59421774, 40.22597747,\n",
       "       16.39307918, 17.86909777])"
      ]
     },
     "execution_count": 78,
     "metadata": {},
     "output_type": "execute_result"
    }
   ],
   "source": [
    "y_pred"
   ]
  },
  {
   "cell_type": "markdown",
   "id": "a864c07e",
   "metadata": {},
   "source": [
    "# Evaluate the model:\n",
    "Calculate the Mean Absolute Error (MAE) of the model.\n"
   ]
  },
  {
   "cell_type": "code",
   "execution_count": 79,
   "id": "9ad39c1a",
   "metadata": {},
   "outputs": [],
   "source": [
    "from sklearn.metrics import mean_absolute_error, r2_score"
   ]
  },
  {
   "cell_type": "code",
   "execution_count": 85,
   "id": "ea9856e6",
   "metadata": {},
   "outputs": [],
   "source": [
    "mae = mean_absolute_error(y_test, y_pred)\n"
   ]
  },
  {
   "cell_type": "code",
   "execution_count": 86,
   "id": "dc9418d5",
   "metadata": {},
   "outputs": [
    {
     "data": {
      "text/plain": [
       "3.1410525671083374"
      ]
     },
     "execution_count": 86,
     "metadata": {},
     "output_type": "execute_result"
    }
   ],
   "source": [
    "mae"
   ]
  },
  {
   "cell_type": "markdown",
   "id": "b118f86f",
   "metadata": {},
   "source": [
    "# Calculate R-squared:\n",
    "Calculate the R-squared value to assess model performance.\n"
   ]
  },
  {
   "cell_type": "code",
   "execution_count": 83,
   "id": "b7aa3401",
   "metadata": {},
   "outputs": [],
   "source": [
    "from sklearn.metrics import mean_absolute_error, r2_score"
   ]
  },
  {
   "cell_type": "code",
   "execution_count": 84,
   "id": "68a7860e",
   "metadata": {},
   "outputs": [
    {
     "data": {
      "text/plain": [
       "0.7071862632031873"
      ]
     },
     "execution_count": 84,
     "metadata": {},
     "output_type": "execute_result"
    }
   ],
   "source": [
    "r2 = r2_score(y_test, y_pred)\n",
    "r2"
   ]
  },
  {
   "cell_type": "markdown",
   "id": "1b0c4e8c",
   "metadata": {},
   "source": [
    "# Plot actual vs predicted values:\n",
    "Create a scatter plot of actual vs predicted values.\n"
   ]
  },
  {
   "cell_type": "markdown",
   "id": "0a64de24",
   "metadata": {},
   "source": [
    "# 'k--': This is a string that specifies the style of the line:\n",
    "'k' indicates the color of the line (black in this case). '--' indicates that the line should be dashed."
   ]
  },
  {
   "cell_type": "markdown",
   "id": "c7c483ea",
   "metadata": {},
   "source": [
    "# [y_test.min(), y_test.max()]: This specifies the x-coordinates of the points that define the line.\n",
    "y_test.min() gets the minimum value from the actual target values (the ground truth).\n",
    "y_test.max() gets the maximum value from the actual target values.\n",
    "This means the line will start from the minimum actual value and extend to the maximum actual value"
   ]
  },
  {
   "cell_type": "code",
   "execution_count": 87,
   "id": "4739b164",
   "metadata": {},
   "outputs": [
    {
     "data": {
      "image/png": "[encoded data removed]",
      "text/plain": [
       "<Figure size 800x600 with 1 Axes>"
      ]
     },
     "metadata": {},
     "output_type": "display_data"
    }
   ],
   "source": [
    "plt.figure(figsize=(8, 6))\n",
    "plt.scatter(y_test, y_pred, alpha=0.5)\n",
    "plt.plot([y_test.min(), y_test.max()], [y_test.min(), y_test.max()], 'k--', lw=2)\n",
    "plt.xlabel('Actual')\n",
    "plt.ylabel('Predicted')\n",
    "plt.title('Actual vs Predicted')\n",
    "plt.show()                             # lw=2 for thickness"
   ]
  },
  {
   "cell_type": "markdown",
   "id": "98df7537",
   "metadata": {},
   "source": [
    "# Advanced Regression Techniques Tasks"
   ]
  },
  {
   "cell_type": "markdown",
   "id": "ceca65f5",
   "metadata": {},
   "source": [
    "# Polynomial Regression:\n",
    "Train a polynomial regression model.\n"
   ]
  },
  {
   "cell_type": "markdown",
   "id": "b62f7e18",
   "metadata": {},
   "source": [
    "# Evaluate Polynomial Regression:\n",
    "Calculate the MAE and R-squared for the polynomial regression model.\n"
   ]
  },
  {
   "cell_type": "code",
   "execution_count": 89,
   "id": "788826d1",
   "metadata": {},
   "outputs": [],
   "source": [
    "from sklearn.preprocessing import PolynomialFeatures"
   ]
  },
  {
   "cell_type": "markdown",
   "id": "602244d5",
   "metadata": {},
   "source": [
    "# PolynomialFeatures(degree=2) creates new features by taking the original features and raising them to powers up to the specified degree (2 in this case)"
   ]
  },
  {
   "cell_type": "code",
   "execution_count": 94,
   "id": "ae931935",
   "metadata": {},
   "outputs": [],
   "source": [
    "poly= PolynomialFeatures(degree= 2)\n",
    "x_train_poly= poly.fit_transform(x_train)\n",
    "x_test_poly= poly.transform(x_test)"
   ]
  },
  {
   "cell_type": "code",
   "execution_count": 130,
   "id": "15a985c2",
   "metadata": {},
   "outputs": [
    {
     "data": {
      "text/plain": [
       "LinearRegression()"
      ]
     },
     "execution_count": 130,
     "metadata": {},
     "output_type": "execute_result"
    }
   ],
   "source": [
    "poly_model = LinearRegression()\n",
    "poly_model.fit(x_train_poly, y_train)"
   ]
  },
  {
   "cell_type": "code",
   "execution_count": 131,
   "id": "7e65a804",
   "metadata": {},
   "outputs": [],
   "source": [
    "y_pred_ploy = poly_model.predict(x_test_poly)"
   ]
  },
  {
   "cell_type": "markdown",
   "id": "43760065",
   "metadata": {},
   "source": [
    "# Evaluate Polynomial Regression"
   ]
  },
  {
   "cell_type": "code",
   "execution_count": 135,
   "id": "fc48c0e3",
   "metadata": {},
   "outputs": [
    {
     "name": "stdout",
     "output_type": "stream",
     "text": [
      "0.5374014284812872\n"
     ]
    }
   ],
   "source": [
    "poly_mae = mean_absolute_error(y_test, y_pred_ploy)\n",
    "poly_r2 = r2_score(y_test, y_pred_ploy)\n",
    "print(poly_r2)"
   ]
  },
  {
   "cell_type": "code",
   "execution_count": 136,
   "id": "a41408ae",
   "metadata": {},
   "outputs": [
    {
     "name": "stdout",
     "output_type": "stream",
     "text": [
      "3.2312574297458343\n"
     ]
    }
   ],
   "source": [
    "print(poly_mae)"
   ]
  },
  {
   "cell_type": "markdown",
   "id": "daa39e9c",
   "metadata": {},
   "source": [
    "# Ridge Regression:\n",
    "Train a ridge regression model.\n"
   ]
  },
  {
   "cell_type": "markdown",
   "id": "ba9be938",
   "metadata": {},
   "source": [
    "# Evaluate Ridge Regression:\n",
    "Calculate the MAE and R-squared for the ridge regression model.\n",
    "\n"
   ]
  },
  {
   "cell_type": "code",
   "execution_count": 99,
   "id": "9d3115c9",
   "metadata": {},
   "outputs": [],
   "source": [
    "from sklearn.linear_model import Ridge"
   ]
  },
  {
   "cell_type": "markdown",
   "id": "9a1c1210",
   "metadata": {},
   "source": [
    "# Ridge Regression (Ridge(alpha=1.0)): Adds L2 regularization, which penalizes large coefficients but does not shrink them to zero, making it useful when all features are expected to contribute to the prediction"
   ]
  },
  {
   "cell_type": "code",
   "execution_count": 101,
   "id": "e36a7829",
   "metadata": {},
   "outputs": [
    {
     "data": {
      "text/plain": [
       "Ridge()"
      ]
     },
     "execution_count": 101,
     "metadata": {},
     "output_type": "execute_result"
    }
   ],
   "source": [
    "ridge_model = Ridge(alpha=1.0)\n",
    "ridge_model.fit(x_train, y_train)\n"
   ]
  },
  {
   "cell_type": "code",
   "execution_count": 102,
   "id": "4b56793f",
   "metadata": {},
   "outputs": [],
   "source": [
    "ridge_y_pred = ridge_model.predict(x_test)"
   ]
  },
  {
   "cell_type": "code",
   "execution_count": 103,
   "id": "1ee378ba",
   "metadata": {},
   "outputs": [],
   "source": [
    "ridge_mae = mean_absolute_error(y_test, ridge_y_pred)\n",
    "ridge_r2 = r2_score(y_test, ridge_y_pred)"
   ]
  },
  {
   "cell_type": "code",
   "execution_count": 104,
   "id": "fe6aa8f2",
   "metadata": {},
   "outputs": [
    {
     "name": "stdout",
     "output_type": "stream",
     "text": [
      "0.7005989750756149\n"
     ]
    }
   ],
   "source": [
    "print(ridge_r2)"
   ]
  },
  {
   "cell_type": "code",
   "execution_count": 112,
   "id": "37b02011",
   "metadata": {},
   "outputs": [
    {
     "name": "stdout",
     "output_type": "stream",
     "text": [
      "3.158193755884402\n"
     ]
    }
   ],
   "source": [
    "print(ridge_mae)"
   ]
  },
  {
   "cell_type": "markdown",
   "id": "7ef5c9ae",
   "metadata": {},
   "source": [
    "# Lasso Regression:\n",
    "Train a lasso regression model.\n"
   ]
  },
  {
   "cell_type": "markdown",
   "id": "42247db3",
   "metadata": {},
   "source": [
    "# Evaluate lasso Regression:\n",
    "Calculate the MAE and R-squared for the lasso regression model.\n"
   ]
  },
  {
   "cell_type": "code",
   "execution_count": 105,
   "id": "dd57fe5b",
   "metadata": {},
   "outputs": [],
   "source": [
    "from sklearn.linear_model import Lasso"
   ]
  },
  {
   "cell_type": "markdown",
   "id": "f1605b76",
   "metadata": {},
   "source": [
    "# Lasso Regression (Lasso(alpha=0.1)): Adds L1 regularization to the model, which can shrink some coefficients to zero, making it useful for feature selection."
   ]
  },
  {
   "cell_type": "code",
   "execution_count": 106,
   "id": "01d16809",
   "metadata": {},
   "outputs": [
    {
     "data": {
      "text/plain": [
       "Lasso(alpha=0.1)"
      ]
     },
     "execution_count": 106,
     "metadata": {},
     "output_type": "execute_result"
    }
   ],
   "source": [
    "lasso_model = Lasso(alpha=0.1)\n",
    "lasso_model.fit(x_train, y_train)\n"
   ]
  },
  {
   "cell_type": "code",
   "execution_count": 107,
   "id": "733f935f",
   "metadata": {},
   "outputs": [],
   "source": [
    "lasso_y_pred = lasso_model.predict(x_test)"
   ]
  },
  {
   "cell_type": "code",
   "execution_count": 109,
   "id": "b6575679",
   "metadata": {},
   "outputs": [],
   "source": [
    "lasso_mae = mean_absolute_error(y_test, lasso_y_pred)\n",
    "lasso_r2 = r2_score(y_test, lasso_y_pred)\n"
   ]
  },
  {
   "cell_type": "code",
   "execution_count": 110,
   "id": "1918d9d0",
   "metadata": {},
   "outputs": [
    {
     "name": "stdout",
     "output_type": "stream",
     "text": [
      "3.224332395349057\n"
     ]
    }
   ],
   "source": [
    "print(lasso_mae)"
   ]
  },
  {
   "cell_type": "code",
   "execution_count": 111,
   "id": "ead3e038",
   "metadata": {},
   "outputs": [
    {
     "name": "stdout",
     "output_type": "stream",
     "text": [
      "0.6914578902133115\n"
     ]
    }
   ],
   "source": [
    "print(lasso_r2)"
   ]
  },
  {
   "cell_type": "markdown",
   "id": "b737f132",
   "metadata": {},
   "source": [
    "# ElasticNet Regression:\n",
    "Train an ElasticNet regression model.\n"
   ]
  },
  {
   "cell_type": "markdown",
   "id": "996c7073",
   "metadata": {},
   "source": [
    "# Evaluate ElasticNet Regression:\n",
    "Calculate the MAE and R-squared for the ElasticNet  regression model.\n"
   ]
  },
  {
   "cell_type": "code",
   "execution_count": 115,
   "id": "b461e89a",
   "metadata": {},
   "outputs": [],
   "source": [
    "from sklearn.linear_model import ElasticNet"
   ]
  },
  {
   "cell_type": "code",
   "execution_count": 116,
   "id": "1933c300",
   "metadata": {},
   "outputs": [
    {
     "name": "stdout",
     "output_type": "stream",
     "text": [
      "ElasticNet Regression: MAE = 3.44, R-squared = 0.68\n"
     ]
    }
   ],
   "source": [
    "elastic_model = ElasticNet(alpha=0.5, l1_ratio=0.5)\n",
    "elastic_model.fit(x_train, y_train)\n",
    "elastic_y_pred = elastic_model.predict(x_test)\n",
    "elastic_mae = mean_absolute_error(y_test, elastic_y_pred)\n",
    "elastic_r2 = r2_score(y_test, elastic_y_pred)\n",
    "print(f'ElasticNet Regression: MAE = {elastic_mae:.2f}, R-squared = {elastic_r2:.2f}')"
   ]
  },
  {
   "cell_type": "markdown",
   "id": "fbde837a",
   "metadata": {},
   "source": [
    "# Compare all models:\n",
    "Compare the performance of all regression models and visualize the results.\n"
   ]
  },
  {
   "cell_type": "code",
   "execution_count": 139,
   "id": "10805280",
   "metadata": {},
   "outputs": [],
   "source": [
    "results = {\n",
    "    'Model': ['Polynomial Regression', 'Ridge Regression', 'Lasso Regression', 'ElasticNet Regression'],\n",
    "    'MAE': [poly_mae, ridge_mae, lasso_mae, elastic_mae],\n",
    "    'R-squared': [poly_r2, ridge_r2, lasso_r2, elastic_r2]\n",
    "}\n",
    "\n",
    "results_df = pd.DataFrame(results)"
   ]
  },
  {
   "cell_type": "code",
   "execution_count": 140,
   "id": "733fb2ed",
   "metadata": {},
   "outputs": [
    {
     "name": "stdout",
     "output_type": "stream",
     "text": [
      "                   Model       MAE  R-squared\n",
      "0  Polynomial Regression  3.231257   0.537401\n",
      "1       Ridge Regression  3.158194   0.700599\n",
      "2       Lasso Regression  3.224332   0.691458\n",
      "3  ElasticNet Regression  3.440487   0.683913\n"
     ]
    }
   ],
   "source": [
    "print(results_df)"
   ]
  },
  {
   "cell_type": "code",
   "execution_count": 141,
   "id": "9de56950",
   "metadata": {},
   "outputs": [
    {
     "data": {
      "image/png": "[encoded data removed]",
      "text/plain": [
       "<Figure size 1000x600 with 1 Axes>"
      ]
     },
     "metadata": {},
     "output_type": "display_data"
    }
   ],
   "source": [
    "# Visualize the results\n",
    "fig, ax = plt.subplots(figsize=(10, 6))\n",
    "\n",
    "ax.scatter(y_test, y_pred_ploy, label='Polynomial Regression', alpha=0.5)\n",
    "ax.scatter(y_test, ridge_y_pred, label='Ridge Regression', alpha=0.5)\n",
    "ax.scatter(y_test, lasso_y_pred, label='Lasso Regression', alpha=0.5)\n",
    "ax.scatter(y_test, elastic_y_pred, label='ElasticNet Regression', alpha=0.5)\n",
    "\n",
    "# Add labels and title\n",
    "ax.set_xlabel('Actual Values')\n",
    "ax.set_ylabel('Predicted Values')\n",
    "ax.set_title('Comparison of Regression Models')\n",
    "ax.legend()\n",
    "\n",
    "# Display the plot\n",
    "plt.show()"
   ]
  },
  {
   "cell_type": "markdown",
   "id": "ba392429",
   "metadata": {},
   "source": [
    "# Advanced Regression Techniques"
   ]
  },
  {
   "cell_type": "markdown",
   "id": "8e6a8e04",
   "metadata": {},
   "source": [
    "# Train a Decision Tree Regressor:\n",
    "\n"
   ]
  },
  {
   "cell_type": "markdown",
   "id": "a6576410",
   "metadata": {},
   "source": [
    "# Train a decision tree regressor on the training data.\n"
   ]
  },
  {
   "cell_type": "code",
   "execution_count": 142,
   "id": "873ff19f",
   "metadata": {},
   "outputs": [],
   "source": [
    "from sklearn.tree import DecisionTreeRegressor\n",
    "from sklearn.metrics import mean_squared_error, r2_score"
   ]
  },
  {
   "cell_type": "code",
   "execution_count": 143,
   "id": "d90a51d9",
   "metadata": {},
   "outputs": [
    {
     "data": {
      "text/plain": [
       "DecisionTreeRegressor()"
      ]
     },
     "execution_count": 143,
     "metadata": {},
     "output_type": "execute_result"
    }
   ],
   "source": [
    "dt_regressor = DecisionTreeRegressor()\n",
    "dt_regressor.fit(x_train, y_train)"
   ]
  },
  {
   "cell_type": "markdown",
   "id": "2fc2cf63",
   "metadata": {},
   "source": [
    "# Evaluate the performance using MSE and R-squared."
   ]
  },
  {
   "cell_type": "code",
   "execution_count": 144,
   "id": "01574015",
   "metadata": {},
   "outputs": [],
   "source": [
    "y_pred_dt = dt_regressor.predict(x_test)"
   ]
  },
  {
   "cell_type": "code",
   "execution_count": 145,
   "id": "709e906d",
   "metadata": {},
   "outputs": [],
   "source": [
    "dt_mse = mean_squared_error(y_test, y_pred_dt)\n",
    "dt_r2 = r2_score(y_test, y_pred_dt)\n",
    "\n"
   ]
  },
  {
   "cell_type": "code",
   "execution_count": 146,
   "id": "53746f31",
   "metadata": {},
   "outputs": [
    {
     "name": "stdout",
     "output_type": "stream",
     "text": [
      "24.429868421052632\n",
      "0.6721399341300787\n"
     ]
    }
   ],
   "source": [
    "print(dt_mse)\n",
    "print(dt_r2)"
   ]
  },
  {
   "cell_type": "markdown",
   "id": "8a536ec8",
   "metadata": {},
   "source": [
    "# Train a Random Forest Regressor:\n",
    "Train a random forest regressor on the training data.\n"
   ]
  },
  {
   "cell_type": "code",
   "execution_count": 147,
   "id": "cb74c72b",
   "metadata": {},
   "outputs": [],
   "source": [
    "from sklearn.ensemble import RandomForestRegressor\n"
   ]
  },
  {
   "cell_type": "code",
   "execution_count": 148,
   "id": "8d76c4dc",
   "metadata": {},
   "outputs": [
    {
     "data": {
      "text/plain": [
       "RandomForestRegressor()"
      ]
     },
     "execution_count": 148,
     "metadata": {},
     "output_type": "execute_result"
    }
   ],
   "source": [
    "rf_regressor = RandomForestRegressor()\n",
    "rf_regressor.fit(x_train, y_train)"
   ]
  },
  {
   "cell_type": "code",
   "execution_count": 149,
   "id": "02745f6b",
   "metadata": {},
   "outputs": [],
   "source": [
    "y_pred_rf = rf_regressor.predict(x_test)"
   ]
  },
  {
   "cell_type": "markdown",
   "id": "a95d9448",
   "metadata": {},
   "source": [
    "# Evaluate the performance using MSE and R-squared.\n"
   ]
  },
  {
   "cell_type": "code",
   "execution_count": 150,
   "id": "5f858183",
   "metadata": {},
   "outputs": [],
   "source": [
    "rf_mse = mean_squared_error(y_test, y_pred_rf)\n",
    "rf_r2 = r2_score(y_test, y_pred_rf)"
   ]
  },
  {
   "cell_type": "code",
   "execution_count": 151,
   "id": "76a9a6c3",
   "metadata": {},
   "outputs": [
    {
     "name": "stdout",
     "output_type": "stream",
     "text": [
      "9.684998394736843\n",
      "0.8700228688537617\n"
     ]
    }
   ],
   "source": [
    "print(rf_mse)\n",
    "print(rf_r2)"
   ]
  },
  {
   "cell_type": "markdown",
   "id": "07157c54",
   "metadata": {},
   "source": [
    "# Train a Gradient Boosting Regressor:\n",
    "Train a gradient boosting regressor on the training data.\n"
   ]
  },
  {
   "cell_type": "code",
   "execution_count": 155,
   "id": "35ea009d",
   "metadata": {},
   "outputs": [],
   "source": [
    "from sklearn.ensemble import GradientBoostingRegressor"
   ]
  },
  {
   "cell_type": "code",
   "execution_count": 157,
   "id": "2f98f22a",
   "metadata": {},
   "outputs": [
    {
     "data": {
      "text/plain": [
       "GradientBoostingRegressor()"
      ]
     },
     "execution_count": 157,
     "metadata": {},
     "output_type": "execute_result"
    }
   ],
   "source": [
    "gb_regressor = GradientBoostingRegressor()\n",
    "gb_regressor.fit(x_train, y_train)\n"
   ]
  },
  {
   "cell_type": "code",
   "execution_count": 158,
   "id": "45006e30",
   "metadata": {},
   "outputs": [],
   "source": [
    "y_pred_gb = gb_regressor.predict(x_test)"
   ]
  },
  {
   "cell_type": "markdown",
   "id": "89a5b70f",
   "metadata": {},
   "source": [
    "# Evaluate the performance using MSE and R-squared\n"
   ]
  },
  {
   "cell_type": "code",
   "execution_count": 159,
   "id": "d280e8ad",
   "metadata": {},
   "outputs": [],
   "source": [
    "gb_mse = mean_squared_error(y_test, y_pred_gb)\n",
    "gb_r2 = r2_score(y_test, y_pred_gb)"
   ]
  },
  {
   "cell_type": "code",
   "execution_count": 160,
   "id": "8e093dc3",
   "metadata": {},
   "outputs": [
    {
     "name": "stdout",
     "output_type": "stream",
     "text": [
      "8.42175152481148\n",
      "0.8869762226273248\n"
     ]
    }
   ],
   "source": [
    "print(gb_mse)\n",
    "print(gb_r2)"
   ]
  },
  {
   "cell_type": "code",
   "execution_count": 163,
   "id": "2129263b",
   "metadata": {},
   "outputs": [],
   "source": [
    "results = {\n",
    "    'Model': ['dt_regressor', 'rf_regresso', 'gb_regressor'],\n",
    "    'MAE': [dt_mse, rf_mse, gb_mse],\n",
    "    'R-squared': [dt_r2, rf_r2, gb_r2]\n",
    "}\n",
    "\n",
    "results_df7 = pd.DataFrame(results)"
   ]
  },
  {
   "cell_type": "code",
   "execution_count": 164,
   "id": "f57a780c",
   "metadata": {},
   "outputs": [
    {
     "name": "stdout",
     "output_type": "stream",
     "text": [
      "          Model        MAE  R-squared\n",
      "0  dt_regressor  24.429868   0.672140\n",
      "1   rf_regresso   9.684998   0.870023\n",
      "2  gb_regressor   8.421752   0.886976\n"
     ]
    }
   ],
   "source": [
    "print(results_df7)"
   ]
  },
  {
   "cell_type": "markdown",
   "id": "b75daaf5",
   "metadata": {},
   "source": [
    "# Model Tuning and Optimization:::"
   ]
  },
  {
   "cell_type": "markdown",
   "id": "cc6eb41c",
   "metadata": {},
   "source": [
    "# Hyperparameter Tuning for Ridge Regression:\n",
    "Perform hyperparameter tuning for the alpha parameter of the ridge regression model using cross-validation.\n"
   ]
  },
  {
   "cell_type": "code",
   "execution_count": 165,
   "id": "9045cf88",
   "metadata": {},
   "outputs": [
    {
     "name": "stdout",
     "output_type": "stream",
     "text": [
      "Best Alpha: 0.1\n",
      "Best Score: 0.6766815039525739\n"
     ]
    }
   ],
   "source": [
    "from sklearn.linear_model import Ridge\n",
    "from sklearn.model_selection import GridSearchCV\n",
    "\n",
    "\n",
    "param_grid = {'alpha': [0.1, 1, 10, 100]}\n",
    "ridge_regressor = Ridge()\n",
    "grid_search = GridSearchCV(ridge_regressor, param_grid, cv=5)\n",
    "grid_search.fit(x_train, y_train)\n",
    "\n",
    "print(f'Best Alpha: {grid_search.best_params_[\"alpha\"]}')\n",
    "print(f'Best Score: {grid_search.best_score_}')"
   ]
  },
  {
   "cell_type": "markdown",
   "id": "89063e83",
   "metadata": {},
   "source": [
    "# Hyperparameter Tuning for Lasso Regression:\n",
    "Perform hyperparameter tuning for the alpha parameter of the lasso regression \n"
   ]
  },
  {
   "cell_type": "code",
   "execution_count": 166,
   "id": "341d61e8",
   "metadata": {},
   "outputs": [],
   "source": [
    "from sklearn.linear_model import Lasso\n",
    "from sklearn.model_selection import GridSearchCV"
   ]
  },
  {
   "cell_type": "code",
   "execution_count": 170,
   "id": "4ef40aeb",
   "metadata": {},
   "outputs": [
    {
     "name": "stdout",
     "output_type": "stream",
     "text": [
      "BEST ALPHA: 0.1\n",
      "BEST SCORE: 0.6684514748259278\n"
     ]
    }
   ],
   "source": [
    "param_grid= {'alpha': [0.1, 1, 10,100] }\n",
    "lasso_regressor= Lasso()\n",
    "grid_search= GridSearchCV(lasso_regressor,param_grid, cv=5)\n",
    "grid_search.fit(x_train, y_train)\n",
    "\n",
    "print(f'BEST ALPHA: {grid_search.best_params_[\"alpha\"]}')\n",
    "print(f'BEST SCORE: {grid_search.best_score_}')"
   ]
  },
  {
   "cell_type": "markdown",
   "id": "ca652a9c",
   "metadata": {},
   "source": [
    "# Hyperparameter Tuning for Random Forest:\n",
    "\n"
   ]
  },
  {
   "cell_type": "markdown",
   "id": "ec5c3a55",
   "metadata": {},
   "source": [
    "# Perform hyperparameter tuning for the number of estimators and max depth of the random forest regressor using cross-validation\n"
   ]
  },
  {
   "cell_type": "code",
   "execution_count": 171,
   "id": "5180e3ae",
   "metadata": {},
   "outputs": [
    {
     "name": "stdout",
     "output_type": "stream",
     "text": [
      "Best n_estimators: 100\n",
      "Best max_depth: 15\n",
      "Best Score: 0.7941907158853029\n"
     ]
    }
   ],
   "source": [
    "from sklearn.ensemble import RandomForestRegressor\n",
    "from sklearn.model_selection import GridSearchCV\n",
    "\n",
    "# Assume X_train, y_train are your training data\n",
    "param_grid = {\n",
    "    'n_estimators': [100, 200, 300],\n",
    "    'max_depth': [5, 10, 15]\n",
    "}\n",
    "rf_regressor = RandomForestRegressor()\n",
    "grid_search = GridSearchCV(rf_regressor, param_grid, cv=5)\n",
    "grid_search.fit(x_train, y_train)\n",
    "\n",
    "print(f'Best n_estimators: {grid_search.best_params_[\"n_estimators\"]}')\n",
    "print(f'Best max_depth: {grid_search.best_params_[\"max_depth\"]}')\n",
    "print(f'Best Score: {grid_search.best_score_}')"
   ]
  },
  {
   "cell_type": "markdown",
   "id": "7df9059e",
   "metadata": {},
   "source": [
    "# Hyperparameter Tuning for Gradient Boosting:\n"
   ]
  },
  {
   "cell_type": "markdown",
   "id": "4d2e533c",
   "metadata": {},
   "source": [
    "# Perform hyperparameter tuning for the learning rate and number of estimators of the gradient boosting regressor using cross-validation."
   ]
  },
  {
   "cell_type": "code",
   "execution_count": 175,
   "id": "9603a31c",
   "metadata": {},
   "outputs": [
    {
     "data": {
      "text/plain": [
       "GridSearchCV(cv=5, estimator=GradientBoostingRegressor(),\n",
       "             param_grid={'learning_rate': [0.1, 0.01, 0.001],\n",
       "                         'n_estimators': [100, 200, 300]})"
      ]
     },
     "execution_count": 175,
     "metadata": {},
     "output_type": "execute_result"
    }
   ],
   "source": [
    "from sklearn.ensemble import GradientBoostingRegressor\n",
    "from sklearn.model_selection import GridSearchCV\n",
    "\n",
    "param_grid = {\n",
    "    'learning_rate': [0.1, 0.01, 0.001],\n",
    "    'n_estimators': [100, 200, 300]\n",
    "}\n",
    "gb_regressor = GradientBoostingRegressor()\n",
    "grid_search = GridSearchCV(gb_regressor, param_grid, cv=5)\n",
    "grid_search.fit(x_train, y_train)\n"
   ]
  },
  {
   "cell_type": "code",
   "execution_count": 176,
   "id": "be7cde83",
   "metadata": {},
   "outputs": [
    {
     "name": "stdout",
     "output_type": "stream",
     "text": [
      "Best learning_rate: 0.1\n",
      "Best n_estimators: 100\n",
      "Best Score: 0.8265513459241814\n"
     ]
    }
   ],
   "source": [
    "\n",
    "print(f'Best learning_rate: {grid_search.best_params_[\"learning_rate\"]}')\n",
    "print(f'Best n_estimators: {grid_search.best_params_[\"n_estimators\"]}')\n",
    "print(f'Best Score: {grid_search.best_score_}')"
   ]
  },
  {
   "cell_type": "code",
   "execution_count": null,
   "id": "21a01b12",
   "metadata": {},
   "outputs": [],
   "source": []
  }
 ],
 "metadata": {
  "kernelspec": {
   "display_name": "Python 3 (ipykernel)",
   "language": "python",
   "name": "python3"
  },
  "language_info": {
   "codemirror_mode": {
    "name": "ipython",
    "version": 3
   },
   "file_extension": ".py",
   "mimetype": "text/x-python",
   "name": "python",
   "nbconvert_exporter": "python",
   "pygments_lexer": "ipython3",
   "version": "3.9.13"
  }
 },
 "nbformat": 4,
 "nbformat_minor": 5
}
